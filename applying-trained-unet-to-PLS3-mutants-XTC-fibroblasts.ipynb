{
 "cells": [
  {
   "cell_type": "code",
   "execution_count": null,
   "metadata": {},
   "outputs": [],
   "source": [
    "import pandas as pd\n",
    "import numpy as np\n",
    "import torch\n",
    "import torch.nn\n",
    "import glob\n",
    "import matplotlib.pyplot as plt\n",
    "import matplotlib.colors as pltclr\n",
    "import matplotlib.patches as patch\n",
    "import time\n",
    "import skimage\n",
    "\n",
    "import os\n",
    "\n",
    "from utils.UNeXt import UNet\n",
    "from utils.data_processing import CellDataset, SubsetSampler\n",
    "\n",
    "from utils.nb_utils import *\n",
    "\n",
    "%load_ext autoreload\n",
    "%autoreload 2\n",
    "%matplotlib inline\n",
    "import pprint"
   ]
  }
 ],
 "metadata": {
  "language_info": {
   "name": "python"
  }
 },
 "nbformat": 4,
 "nbformat_minor": 2
}
